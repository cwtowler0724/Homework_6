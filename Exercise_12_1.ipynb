{
 "cells": [
  {
   "cell_type": "code",
   "execution_count": 56,
   "metadata": {},
   "outputs": [],
   "source": [
    "def most_frequent(string):\n",
    "    d = {}\n",
    "    for letter in string:\n",
    "        d[letter] = 1 + d.get(letter, 0)\n",
    "  \n",
    "    \n",
    "    letters = []\n",
    "    \n",
    "    for letter, num in d.items():\n",
    "        letters += [(num, letter)]\n",
    "    letters.sort(reverse = True)\n",
    "    \n",
    "    for num, letter in letters:\n",
    "        print(letter, num)"
   ]
  },
  {
   "cell_type": "code",
   "execution_count": 57,
   "metadata": {},
   "outputs": [
    {
     "name": "stdout",
     "output_type": "stream",
     "text": [
      "o 2\n",
      "l 2\n",
      "t 1\n",
      "f 1\n",
      "b 1\n",
      "a 1\n",
      "None\n"
     ]
    }
   ],
   "source": [
    "print(most_frequent('football'))"
   ]
  },
  {
   "cell_type": "code",
   "execution_count": null,
   "metadata": {},
   "outputs": [],
   "source": []
  }
 ],
 "metadata": {
  "kernelspec": {
   "display_name": "Python 3",
   "language": "python",
   "name": "python3"
  },
  "language_info": {
   "codemirror_mode": {
    "name": "ipython",
    "version": 3
   },
   "file_extension": ".py",
   "mimetype": "text/x-python",
   "name": "python",
   "nbconvert_exporter": "python",
   "pygments_lexer": "ipython3",
   "version": "3.6.10"
  }
 },
 "nbformat": 4,
 "nbformat_minor": 4
}
